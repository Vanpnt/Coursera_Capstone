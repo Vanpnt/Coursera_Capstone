{
 "cells": [
  {
   "cell_type": "markdown",
   "metadata": {},
   "source": [
    "**Capstone Project - The Battle of Neighborhoods**"
   ]
  },
  {
   "cell_type": "markdown",
   "metadata": {},
   "source": [
    "*Introduction/Business problem:*"
   ]
  },
  {
   "cell_type": "markdown",
   "metadata": {},
   "source": [
    "What are the most common venues in World's major Central business districts (CBDs)? The answer to this question may be of interests to market researchers who will in turn provide the results to businesses who are intereted in finding out the most popular businesses to set up in CBDs in the world."
   ]
  },
  {
   "cell_type": "markdown",
   "metadata": {},
   "source": [
    "*Description of the data:*"
   ]
  },
  {
   "cell_type": "markdown",
   "metadata": {},
   "source": [
    "In order to answer this question, we will explore the venue data from Foursquare for 3 World's CBDs and compare to find the most common venues:\n",
    "\n",
    "Raffles Place (Singapore),\n",
    "Midtown (Manhattan, New York),\n",
    "Canary Wharf (London)"
   ]
  },
  {
   "cell_type": "code",
   "execution_count": 2,
   "metadata": {},
   "outputs": [
    {
     "name": "stdout",
     "output_type": "stream",
     "text": [
      "Your credentails:\n",
      "CLIENT_ID: 4JCOYMDTLXOR3IOVIG0EKSOQUDROEKY24UKCIWSQK0XCCYB2\n",
      "CLIENT_SECRET:L0ZCARO4GP1DRDWZR1RJR0FU2QMG1RTGUY2RI1Q3P0S3AGVG\n"
     ]
    }
   ],
   "source": [
    "CLIENT_ID = '4JCOYMDTLXOR3IOVIG0EKSOQUDROEKY24UKCIWSQK0XCCYB2' # your Foursquare ID\n",
    "CLIENT_SECRET = 'L0ZCARO4GP1DRDWZR1RJR0FU2QMG1RTGUY2RI1Q3P0S3AGVG' # your Foursquare Secret\n",
    "VERSION = '20180605' # Foursquare API version\n",
    "\n",
    "print('Your credentails:')\n",
    "print('CLIENT_ID: ' + CLIENT_ID)\n",
    "print('CLIENT_SECRET:' + CLIENT_SECRET)"
   ]
  },
  {
   "cell_type": "code",
   "execution_count": 3,
   "metadata": {},
   "outputs": [
    {
     "name": "stdout",
     "output_type": "stream",
     "text": [
      "Collecting package metadata (current_repodata.json): done\n",
      "Solving environment: done\n",
      "\n",
      "\n",
      "==> WARNING: A newer version of conda exists. <==\n",
      "  current version: 4.8.3\n",
      "  latest version: 4.8.4\n",
      "\n",
      "Please update conda by running\n",
      "\n",
      "    $ conda update -n base -c defaults conda\n",
      "\n",
      "\n",
      "\n",
      "## Package Plan ##\n",
      "\n",
      "  environment location: /home/jupyterlab/conda/envs/python\n",
      "\n",
      "  added / updated specs:\n",
      "    - geopy\n",
      "\n",
      "\n",
      "The following packages will be downloaded:\n",
      "\n",
      "    package                    |            build\n",
      "    ---------------------------|-----------------\n",
      "    geographiclib-1.50         |             py_0          34 KB  conda-forge\n",
      "    geopy-2.0.0                |     pyh9f0ad1d_0          63 KB  conda-forge\n",
      "    openssl-1.1.1g             |       h516909a_1         2.1 MB  conda-forge\n",
      "    ------------------------------------------------------------\n",
      "                                           Total:         2.2 MB\n",
      "\n",
      "The following NEW packages will be INSTALLED:\n",
      "\n",
      "  geographiclib      conda-forge/noarch::geographiclib-1.50-py_0\n",
      "  geopy              conda-forge/noarch::geopy-2.0.0-pyh9f0ad1d_0\n",
      "\n",
      "The following packages will be UPDATED:\n",
      "\n",
      "  openssl                                 1.1.1g-h516909a_0 --> 1.1.1g-h516909a_1\n",
      "\n",
      "\n",
      "\n",
      "Downloading and Extracting Packages\n",
      "openssl-1.1.1g       | 2.1 MB    | ##################################### | 100% \n",
      "geopy-2.0.0          | 63 KB     | ##################################### | 100% \n",
      "geographiclib-1.50   | 34 KB     | ##################################### | 100% \n",
      "Preparing transaction: done\n",
      "Verifying transaction: done\n",
      "Executing transaction: done\n",
      "Libraries imported.\n"
     ]
    }
   ],
   "source": [
    "import numpy as np # library to handle data in a vectorized manner\n",
    "\n",
    "import pandas as pd # library for data analsysis\n",
    "pd.set_option('display.max_columns', None)\n",
    "pd.set_option('display.max_rows', None)\n",
    "\n",
    "import json # library to handle JSON files\n",
    "\n",
    "!conda install -c conda-forge geopy --yes # uncomment this line if you haven't completed the Foursquare API lab\n",
    "from geopy.geocoders import Nominatim # convert an address into latitude and longitude values\n",
    "\n",
    "import requests # library to handle requests\n",
    "from pandas.io.json import json_normalize # tranform JSON file into a pandas dataframe\n",
    "\n",
    "# Matplotlib and associated plotting modules\n",
    "import matplotlib.cm as cm\n",
    "import matplotlib.colors as colors\n",
    "\n",
    "# import k-means from clustering stage\n",
    "from sklearn.cluster import KMeans\n",
    "\n",
    "#!conda install -c conda-forge folium=0.5.0 --yes # uncomment this line if you haven't completed the Foursquare API lab\n",
    "import folium # map rendering library\n",
    "\n",
    "print('Libraries imported.')"
   ]
  },
  {
   "cell_type": "code",
   "execution_count": 58,
   "metadata": {},
   "outputs": [],
   "source": [
    "#Singapore Central business district is Raffles Place\n",
    "lat=1.2837\n",
    "long=103.8509\n",
    "#London Central business district is Canary Wharf\n",
    "lat1=51.5061\n",
    "long1=-0.0158\n",
    "#New York Central business district in Manhattan is Midtown\n",
    "lat2=40.754932\n",
    "long2=-73.984016"
   ]
  },
  {
   "cell_type": "code",
   "execution_count": 59,
   "metadata": {},
   "outputs": [
    {
     "data": {
      "text/plain": [
       "'https://api.foursquare.com/v2/venues/explore?&client_id=4JCOYMDTLXOR3IOVIG0EKSOQUDROEKY24UKCIWSQK0XCCYB2&client_secret=L0ZCARO4GP1DRDWZR1RJR0FU2QMG1RTGUY2RI1Q3P0S3AGVG&v=20180605&ll=1.2837,103.8509&radius=500&limit=100'"
      ]
     },
     "execution_count": 59,
     "metadata": {},
     "output_type": "execute_result"
    }
   ],
   "source": [
    "LIMIT = 100 # limit of number of venues returned by Foursquare API\n",
    "radius = 500 # define radius\n",
    "url = 'https://api.foursquare.com/v2/venues/explore?&client_id={}&client_secret={}&v={}&ll={},{}&radius={}&limit={}'.format(\n",
    "    CLIENT_ID, \n",
    "    CLIENT_SECRET, \n",
    "    VERSION, \n",
    "    lat, \n",
    "    long, \n",
    "    radius, \n",
    "    LIMIT)\n",
    "url # display URL"
   ]
  },
  {
   "cell_type": "code",
   "execution_count": 56,
   "metadata": {},
   "outputs": [
    {
     "data": {
      "text/plain": [
       "'https://api.foursquare.com/v2/venues/explore?&client_id=4JCOYMDTLXOR3IOVIG0EKSOQUDROEKY24UKCIWSQK0XCCYB2&client_secret=L0ZCARO4GP1DRDWZR1RJR0FU2QMG1RTGUY2RI1Q3P0S3AGVG&v=20180605&ll=51.5061,-0.0158&radius=500&limit=100'"
      ]
     },
     "execution_count": 56,
     "metadata": {},
     "output_type": "execute_result"
    }
   ],
   "source": [
    "url1 = 'https://api.foursquare.com/v2/venues/explore?&client_id={}&client_secret={}&v={}&ll={},{}&radius={}&limit={}'.format(\n",
    "    CLIENT_ID, \n",
    "    CLIENT_SECRET, \n",
    "    VERSION, \n",
    "    lat1, \n",
    "    long1, \n",
    "    radius, \n",
    "    LIMIT)\n",
    "url1 # display URL"
   ]
  },
  {
   "cell_type": "code",
   "execution_count": 60,
   "metadata": {},
   "outputs": [
    {
     "data": {
      "text/plain": [
       "'https://api.foursquare.com/v2/venues/explore?&client_id=4JCOYMDTLXOR3IOVIG0EKSOQUDROEKY24UKCIWSQK0XCCYB2&client_secret=L0ZCARO4GP1DRDWZR1RJR0FU2QMG1RTGUY2RI1Q3P0S3AGVG&v=20180605&ll=40.754932,-73.984016&radius=500&limit=100'"
      ]
     },
     "execution_count": 60,
     "metadata": {},
     "output_type": "execute_result"
    }
   ],
   "source": [
    "url2 = 'https://api.foursquare.com/v2/venues/explore?&client_id={}&client_secret={}&v={}&ll={},{}&radius={}&limit={}'.format(\n",
    "    CLIENT_ID, \n",
    "    CLIENT_SECRET, \n",
    "    VERSION, \n",
    "    lat2, \n",
    "    long2, \n",
    "    radius, \n",
    "    LIMIT)\n",
    "url2 # display URL"
   ]
  },
  {
   "cell_type": "code",
   "execution_count": 61,
   "metadata": {},
   "outputs": [],
   "source": [
    "results = requests.get(url).json()\n",
    "results1 = requests.get(url1).json()\n",
    "results2 = requests.get(url2).json()"
   ]
  },
  {
   "cell_type": "code",
   "execution_count": 62,
   "metadata": {},
   "outputs": [],
   "source": [
    "# function that extracts the category of the venue\n",
    "def get_category_type(row):\n",
    "    try:\n",
    "        categories_list = row['categories']\n",
    "    except:\n",
    "        categories_list = row['venue.categories']\n",
    "        \n",
    "    if len(categories_list) == 0:\n",
    "        return None\n",
    "    else:\n",
    "        return categories_list[0]['name']"
   ]
  },
  {
   "cell_type": "markdown",
   "metadata": {},
   "source": [
    "Singapore CBD-Rafles Place's list of venues"
   ]
  },
  {
   "cell_type": "code",
   "execution_count": 67,
   "metadata": {},
   "outputs": [
    {
     "name": "stderr",
     "output_type": "stream",
     "text": [
      "/home/jupyterlab/conda/envs/python/lib/python3.6/site-packages/ipykernel_launcher.py:3: FutureWarning: pandas.io.json.json_normalize is deprecated, use pandas.json_normalize instead\n",
      "  This is separate from the ipykernel package so we can avoid doing imports until\n"
     ]
    },
    {
     "data": {
      "text/html": [
       "<div>\n",
       "<style scoped>\n",
       "    .dataframe tbody tr th:only-of-type {\n",
       "        vertical-align: middle;\n",
       "    }\n",
       "\n",
       "    .dataframe tbody tr th {\n",
       "        vertical-align: top;\n",
       "    }\n",
       "\n",
       "    .dataframe thead th {\n",
       "        text-align: right;\n",
       "    }\n",
       "</style>\n",
       "<table border=\"1\" class=\"dataframe\">\n",
       "  <thead>\n",
       "    <tr style=\"text-align: right;\">\n",
       "      <th></th>\n",
       "      <th>name</th>\n",
       "      <th>categories</th>\n",
       "      <th>lat</th>\n",
       "      <th>lng</th>\n",
       "    </tr>\n",
       "  </thead>\n",
       "  <tbody>\n",
       "    <tr>\n",
       "      <th>0</th>\n",
       "      <td>City Hot Pot</td>\n",
       "      <td>Hotpot Restaurant</td>\n",
       "      <td>1.284173</td>\n",
       "      <td>103.851585</td>\n",
       "    </tr>\n",
       "    <tr>\n",
       "      <th>1</th>\n",
       "      <td>CULINARYON</td>\n",
       "      <td>Comfort Food Restaurant</td>\n",
       "      <td>1.284876</td>\n",
       "      <td>103.850933</td>\n",
       "    </tr>\n",
       "    <tr>\n",
       "      <th>2</th>\n",
       "      <td>Virgin Active</td>\n",
       "      <td>Gym / Fitness Center</td>\n",
       "      <td>1.284608</td>\n",
       "      <td>103.850815</td>\n",
       "    </tr>\n",
       "    <tr>\n",
       "      <th>3</th>\n",
       "      <td>Fat Saigon Boy</td>\n",
       "      <td>Vietnamese Restaurant</td>\n",
       "      <td>1.282977</td>\n",
       "      <td>103.849068</td>\n",
       "    </tr>\n",
       "    <tr>\n",
       "      <th>4</th>\n",
       "      <td>The Salad Shop</td>\n",
       "      <td>Salad Place</td>\n",
       "      <td>1.285523</td>\n",
       "      <td>103.851177</td>\n",
       "    </tr>\n",
       "  </tbody>\n",
       "</table>\n",
       "</div>"
      ],
      "text/plain": [
       "             name               categories       lat         lng\n",
       "0    City Hot Pot        Hotpot Restaurant  1.284173  103.851585\n",
       "1      CULINARYON  Comfort Food Restaurant  1.284876  103.850933\n",
       "2   Virgin Active     Gym / Fitness Center  1.284608  103.850815\n",
       "3  Fat Saigon Boy    Vietnamese Restaurant  1.282977  103.849068\n",
       "4  The Salad Shop              Salad Place  1.285523  103.851177"
      ]
     },
     "execution_count": 67,
     "metadata": {},
     "output_type": "execute_result"
    }
   ],
   "source": [
    "venues = results['response']['groups'][0]['items']\n",
    "    \n",
    "nearby_venues = json_normalize(venues) # flatten JSON\n",
    "\n",
    "# filter columns\n",
    "filtered_columns = ['venue.name', 'venue.categories', 'venue.location.lat', 'venue.location.lng']\n",
    "nearby_venues =nearby_venues.loc[:, filtered_columns]\n",
    "\n",
    "# filter the category for each row\n",
    "nearby_venues['venue.categories'] = nearby_venues.apply(get_category_type, axis=1)\n",
    "\n",
    "# clean columns\n",
    "nearby_venues.columns = [col.split(\".\")[-1] for col in nearby_venues.columns]\n",
    "\n",
    "nearby_venues.head()"
   ]
  },
  {
   "cell_type": "code",
   "execution_count": 93,
   "metadata": {},
   "outputs": [
    {
     "data": {
      "text/plain": [
       "['Hotpot Restaurant',\n",
       " 'Comfort Food Restaurant',\n",
       " 'Gym / Fitness Center',\n",
       " 'Vietnamese Restaurant',\n",
       " 'Salad Place',\n",
       " 'Hotel',\n",
       " 'Cocktail Bar',\n",
       " 'Modern European Restaurant',\n",
       " 'Lounge',\n",
       " 'Japanese Restaurant',\n",
       " 'Waterfront',\n",
       " 'Bar',\n",
       " 'Café',\n",
       " 'Gym',\n",
       " 'Bridge',\n",
       " 'Chinese Restaurant',\n",
       " 'Martial Arts School',\n",
       " 'Italian Restaurant',\n",
       " 'Seafood Restaurant',\n",
       " 'Yoga Studio',\n",
       " 'Korean Restaurant',\n",
       " 'French Restaurant',\n",
       " 'Building',\n",
       " 'Massage Studio',\n",
       " 'Street Food Gathering',\n",
       " 'Beer Garden',\n",
       " 'Mexican Restaurant',\n",
       " 'Plaza',\n",
       " 'History Museum',\n",
       " 'Sandwich Place',\n",
       " 'Wine Bar',\n",
       " 'Restaurant',\n",
       " 'Food Court',\n",
       " 'Coffee Shop',\n",
       " 'Hotel Bar',\n",
       " 'Nightclub',\n",
       " 'Canal',\n",
       " 'Cupcake Shop',\n",
       " 'Speakeasy',\n",
       " 'Australian Restaurant',\n",
       " 'Pub',\n",
       " 'Dumpling Restaurant',\n",
       " 'Peking Duck Restaurant',\n",
       " 'Asian Restaurant',\n",
       " 'Greek Restaurant',\n",
       " 'Szechuan Restaurant',\n",
       " 'Cantonese Restaurant',\n",
       " 'Temple']"
      ]
     },
     "execution_count": 93,
     "metadata": {},
     "output_type": "execute_result"
    }
   ],
   "source": [
    "Raffles_Place_list=list(nearby_venues['categories'].unique())\n",
    "Raffles_Place_list"
   ]
  },
  {
   "cell_type": "markdown",
   "metadata": {},
   "source": [
    "London CBD-Canary Wharf's list of venues"
   ]
  },
  {
   "cell_type": "code",
   "execution_count": 69,
   "metadata": {},
   "outputs": [
    {
     "name": "stderr",
     "output_type": "stream",
     "text": [
      "/home/jupyterlab/conda/envs/python/lib/python3.6/site-packages/ipykernel_launcher.py:3: FutureWarning: pandas.io.json.json_normalize is deprecated, use pandas.json_normalize instead\n",
      "  This is separate from the ipykernel package so we can avoid doing imports until\n"
     ]
    },
    {
     "data": {
      "text/html": [
       "<div>\n",
       "<style scoped>\n",
       "    .dataframe tbody tr th:only-of-type {\n",
       "        vertical-align: middle;\n",
       "    }\n",
       "\n",
       "    .dataframe tbody tr th {\n",
       "        vertical-align: top;\n",
       "    }\n",
       "\n",
       "    .dataframe thead th {\n",
       "        text-align: right;\n",
       "    }\n",
       "</style>\n",
       "<table border=\"1\" class=\"dataframe\">\n",
       "  <thead>\n",
       "    <tr style=\"text-align: right;\">\n",
       "      <th></th>\n",
       "      <th>name</th>\n",
       "      <th>categories</th>\n",
       "      <th>lat</th>\n",
       "      <th>lng</th>\n",
       "    </tr>\n",
       "  </thead>\n",
       "  <tbody>\n",
       "    <tr>\n",
       "      <th>0</th>\n",
       "      <td>Billingsgate Market</td>\n",
       "      <td>Fish Market</td>\n",
       "      <td>51.506312</td>\n",
       "      <td>-0.014184</td>\n",
       "    </tr>\n",
       "    <tr>\n",
       "      <th>1</th>\n",
       "      <td>Crossrail Place Roof Garden</td>\n",
       "      <td>Garden</td>\n",
       "      <td>51.505965</td>\n",
       "      <td>-0.016822</td>\n",
       "    </tr>\n",
       "    <tr>\n",
       "      <th>2</th>\n",
       "      <td>Sticks'n'Sushi</td>\n",
       "      <td>Sushi Restaurant</td>\n",
       "      <td>51.506178</td>\n",
       "      <td>-0.018287</td>\n",
       "    </tr>\n",
       "    <tr>\n",
       "      <th>3</th>\n",
       "      <td>Ippudo</td>\n",
       "      <td>Ramen Restaurant</td>\n",
       "      <td>51.505982</td>\n",
       "      <td>-0.018141</td>\n",
       "    </tr>\n",
       "    <tr>\n",
       "      <th>4</th>\n",
       "      <td>BrewDog Canary Wharf</td>\n",
       "      <td>Beer Bar</td>\n",
       "      <td>51.504447</td>\n",
       "      <td>-0.015185</td>\n",
       "    </tr>\n",
       "  </tbody>\n",
       "</table>\n",
       "</div>"
      ],
      "text/plain": [
       "                          name        categories        lat       lng\n",
       "0          Billingsgate Market       Fish Market  51.506312 -0.014184\n",
       "1  Crossrail Place Roof Garden            Garden  51.505965 -0.016822\n",
       "2               Sticks'n'Sushi  Sushi Restaurant  51.506178 -0.018287\n",
       "3                       Ippudo  Ramen Restaurant  51.505982 -0.018141\n",
       "4         BrewDog Canary Wharf          Beer Bar  51.504447 -0.015185"
      ]
     },
     "execution_count": 69,
     "metadata": {},
     "output_type": "execute_result"
    }
   ],
   "source": [
    "venues1 = results1['response']['groups'][0]['items']\n",
    "    \n",
    "nearby_venues1 = json_normalize(venues1) # flatten JSON\n",
    "\n",
    "# filter columns\n",
    "filtered_columns = ['venue.name', 'venue.categories', 'venue.location.lat', 'venue.location.lng']\n",
    "nearby_venues1 =nearby_venues1.loc[:, filtered_columns]\n",
    "\n",
    "# filter the category for each row\n",
    "nearby_venues1['venue.categories'] = nearby_venues1.apply(get_category_type, axis=1)\n",
    "\n",
    "# clean columns\n",
    "nearby_venues1.columns = [col.split(\".\")[-1] for col in nearby_venues1.columns]\n",
    "\n",
    "nearby_venues1.head()"
   ]
  },
  {
   "cell_type": "code",
   "execution_count": 91,
   "metadata": {},
   "outputs": [
    {
     "data": {
      "text/plain": [
       "['Fish Market',\n",
       " 'Garden',\n",
       " 'Sushi Restaurant',\n",
       " 'Ramen Restaurant',\n",
       " 'Beer Bar',\n",
       " 'Supermarket',\n",
       " 'Movie Theater',\n",
       " 'Speakeasy',\n",
       " 'Shopping Mall',\n",
       " 'Cycle Studio',\n",
       " 'Gym / Fitness Center',\n",
       " 'Japanese Restaurant',\n",
       " 'Poke Place',\n",
       " 'Indian Restaurant',\n",
       " 'Pizza Place',\n",
       " 'Coffee Shop',\n",
       " 'Bakery',\n",
       " 'Mexican Restaurant',\n",
       " 'Hotel',\n",
       " 'Park',\n",
       " 'English Restaurant',\n",
       " 'Italian Restaurant',\n",
       " 'Gift Shop',\n",
       " 'Juice Bar',\n",
       " 'Steakhouse',\n",
       " 'Smoothie Shop',\n",
       " 'Plaza',\n",
       " 'Spanish Restaurant',\n",
       " 'Street Food Gathering',\n",
       " 'Fried Chicken Joint',\n",
       " 'Scenic Lookout',\n",
       " 'Burger Joint',\n",
       " 'Donut Shop',\n",
       " 'Sandwich Place',\n",
       " 'Bar',\n",
       " 'Salad Place',\n",
       " 'Breakfast Spot',\n",
       " 'Jewelry Store',\n",
       " 'Dumpling Restaurant',\n",
       " 'Chocolate Shop',\n",
       " 'Hotel Bar',\n",
       " 'Tennis Court',\n",
       " 'Bookstore',\n",
       " 'Vietnamese Restaurant',\n",
       " 'Deli / Bodega',\n",
       " 'Falafel Restaurant',\n",
       " 'Restaurant',\n",
       " 'Fast Food Restaurant',\n",
       " 'Café',\n",
       " 'Asian Restaurant',\n",
       " 'Portuguese Restaurant',\n",
       " 'Greek Restaurant',\n",
       " 'Stationery Store',\n",
       " 'French Restaurant',\n",
       " 'Pharmacy',\n",
       " 'Grocery Store',\n",
       " 'Athletics & Sports',\n",
       " 'Bistro',\n",
       " 'Outdoor Sculpture',\n",
       " 'Harbor / Marina']"
      ]
     },
     "execution_count": 91,
     "metadata": {},
     "output_type": "execute_result"
    }
   ],
   "source": [
    "Canary_Wharf_list=list(nearby_venues1['categories'].unique())\n",
    "Canary_Wharf_list"
   ]
  },
  {
   "cell_type": "markdown",
   "metadata": {},
   "source": [
    "Manhattan, New York-CBD Midtown's list of venues"
   ]
  },
  {
   "cell_type": "code",
   "execution_count": 71,
   "metadata": {},
   "outputs": [
    {
     "name": "stderr",
     "output_type": "stream",
     "text": [
      "/home/jupyterlab/conda/envs/python/lib/python3.6/site-packages/ipykernel_launcher.py:3: FutureWarning: pandas.io.json.json_normalize is deprecated, use pandas.json_normalize instead\n",
      "  This is separate from the ipykernel package so we can avoid doing imports until\n"
     ]
    },
    {
     "data": {
      "text/html": [
       "<div>\n",
       "<style scoped>\n",
       "    .dataframe tbody tr th:only-of-type {\n",
       "        vertical-align: middle;\n",
       "    }\n",
       "\n",
       "    .dataframe tbody tr th {\n",
       "        vertical-align: top;\n",
       "    }\n",
       "\n",
       "    .dataframe thead th {\n",
       "        text-align: right;\n",
       "    }\n",
       "</style>\n",
       "<table border=\"1\" class=\"dataframe\">\n",
       "  <thead>\n",
       "    <tr style=\"text-align: right;\">\n",
       "      <th></th>\n",
       "      <th>name</th>\n",
       "      <th>categories</th>\n",
       "      <th>lat</th>\n",
       "      <th>lng</th>\n",
       "    </tr>\n",
       "  </thead>\n",
       "  <tbody>\n",
       "    <tr>\n",
       "      <th>0</th>\n",
       "      <td>Bryant Park</td>\n",
       "      <td>Park</td>\n",
       "      <td>40.753621</td>\n",
       "      <td>-73.983265</td>\n",
       "    </tr>\n",
       "    <tr>\n",
       "      <th>1</th>\n",
       "      <td>Books Kinokuniya</td>\n",
       "      <td>Bookstore</td>\n",
       "      <td>40.754053</td>\n",
       "      <td>-73.984649</td>\n",
       "    </tr>\n",
       "    <tr>\n",
       "      <th>2</th>\n",
       "      <td>Belasco Theatre</td>\n",
       "      <td>Theater</td>\n",
       "      <td>40.756548</td>\n",
       "      <td>-73.983923</td>\n",
       "    </tr>\n",
       "    <tr>\n",
       "      <th>3</th>\n",
       "      <td>Blue Bottle Coffee</td>\n",
       "      <td>Coffee Shop</td>\n",
       "      <td>40.753027</td>\n",
       "      <td>-73.984140</td>\n",
       "    </tr>\n",
       "    <tr>\n",
       "      <th>4</th>\n",
       "      <td>sweetgreen</td>\n",
       "      <td>Salad Place</td>\n",
       "      <td>40.754640</td>\n",
       "      <td>-73.983102</td>\n",
       "    </tr>\n",
       "  </tbody>\n",
       "</table>\n",
       "</div>"
      ],
      "text/plain": [
       "                 name   categories        lat        lng\n",
       "0         Bryant Park         Park  40.753621 -73.983265\n",
       "1    Books Kinokuniya    Bookstore  40.754053 -73.984649\n",
       "2     Belasco Theatre      Theater  40.756548 -73.983923\n",
       "3  Blue Bottle Coffee  Coffee Shop  40.753027 -73.984140\n",
       "4          sweetgreen  Salad Place  40.754640 -73.983102"
      ]
     },
     "execution_count": 71,
     "metadata": {},
     "output_type": "execute_result"
    }
   ],
   "source": [
    "venues2 = results2['response']['groups'][0]['items']\n",
    "    \n",
    "nearby_venues2 = json_normalize(venues2) # flatten JSON\n",
    "\n",
    "# filter columns\n",
    "filtered_columns = ['venue.name', 'venue.categories', 'venue.location.lat', 'venue.location.lng']\n",
    "nearby_venues2 =nearby_venues2.loc[:, filtered_columns]\n",
    "\n",
    "# filter the category for each row\n",
    "nearby_venues2['venue.categories'] = nearby_venues2.apply(get_category_type, axis=1)\n",
    "\n",
    "# clean columns\n",
    "nearby_venues2.columns = [col.split(\".\")[-1] for col in nearby_venues2.columns]\n",
    "\n",
    "nearby_venues2.head()"
   ]
  },
  {
   "cell_type": "code",
   "execution_count": 95,
   "metadata": {},
   "outputs": [
    {
     "data": {
      "text/plain": [
       "['Park',\n",
       " 'Bookstore',\n",
       " 'Theater',\n",
       " 'Coffee Shop',\n",
       " 'Salad Place',\n",
       " 'Grocery Store',\n",
       " 'French Restaurant',\n",
       " 'Mediterranean Restaurant',\n",
       " 'Hotel',\n",
       " 'Japanese Restaurant',\n",
       " 'Gym',\n",
       " 'Cycle Studio',\n",
       " 'Pharmacy',\n",
       " 'Bakery',\n",
       " 'Café',\n",
       " 'Pizza Place',\n",
       " 'Cosmetics Shop',\n",
       " 'Burrito Place',\n",
       " 'Historic Site',\n",
       " 'Chinese Restaurant',\n",
       " 'Plaza',\n",
       " 'Pilates Studio',\n",
       " 'Sushi Restaurant',\n",
       " 'Shoe Store',\n",
       " 'Concert Hall',\n",
       " 'Indian Restaurant',\n",
       " 'Steakhouse',\n",
       " 'Deli / Bodega',\n",
       " 'Clothing Store',\n",
       " 'Bar',\n",
       " 'Comic Shop',\n",
       " 'American Restaurant',\n",
       " 'Miscellaneous Shop',\n",
       " 'Szechuan Restaurant',\n",
       " 'Juice Bar',\n",
       " 'Mexican Restaurant',\n",
       " 'Spa',\n",
       " 'Cuban Restaurant',\n",
       " 'Yoga Studio',\n",
       " 'Smoke Shop',\n",
       " 'Burger Joint',\n",
       " 'Food Stand',\n",
       " 'Art Gallery',\n",
       " 'Tailor Shop',\n",
       " 'Lounge',\n",
       " 'Taco Place',\n",
       " 'Office',\n",
       " 'South American Restaurant',\n",
       " 'Fast Food Restaurant',\n",
       " 'Theme Restaurant',\n",
       " 'Seafood Restaurant',\n",
       " 'BBQ Joint',\n",
       " 'Martial Arts School',\n",
       " 'Arts & Crafts Store',\n",
       " 'Sporting Goods Shop',\n",
       " 'Exhibit',\n",
       " 'Music Store',\n",
       " 'Sandwich Place',\n",
       " 'Gourmet Shop']"
      ]
     },
     "execution_count": 95,
     "metadata": {},
     "output_type": "execute_result"
    }
   ],
   "source": [
    "Midtown_list=list(nearby_venues2['categories'].unique())\n",
    "Midtown_list"
   ]
  },
  {
   "cell_type": "code",
   "execution_count": 78,
   "metadata": {},
   "outputs": [
    {
     "data": {
      "text/plain": [
       "['Lounge',\n",
       " 'Sandwich Place',\n",
       " 'Plaza',\n",
       " 'Gym',\n",
       " 'Hotel',\n",
       " 'Bar',\n",
       " 'Yoga Studio',\n",
       " 'Szechuan Restaurant',\n",
       " 'Café',\n",
       " 'French Restaurant',\n",
       " 'Coffee Shop',\n",
       " 'Salad Place',\n",
       " 'Chinese Restaurant',\n",
       " 'Seafood Restaurant',\n",
       " 'Martial Arts School',\n",
       " 'Mexican Restaurant',\n",
       " 'Japanese Restaurant']"
      ]
     },
     "execution_count": 78,
     "metadata": {},
     "output_type": "execute_result"
    }
   ],
   "source": [
    "common1=list(set(Raffles_Place_list).intersection(Midtown_list))\n",
    "common1"
   ]
  },
  {
   "cell_type": "code",
   "execution_count": 79,
   "metadata": {},
   "outputs": [
    {
     "data": {
      "text/plain": [
       "['Dumpling Restaurant',\n",
       " 'Plaza',\n",
       " 'Bar',\n",
       " 'Hotel',\n",
       " 'Street Food Gathering',\n",
       " 'Gym / Fitness Center',\n",
       " 'Speakeasy',\n",
       " 'Vietnamese Restaurant',\n",
       " 'Café',\n",
       " 'Greek Restaurant',\n",
       " 'French Restaurant',\n",
       " 'Japanese Restaurant',\n",
       " 'Italian Restaurant',\n",
       " 'Hotel Bar',\n",
       " 'Restaurant',\n",
       " 'Coffee Shop',\n",
       " 'Salad Place',\n",
       " 'Asian Restaurant',\n",
       " 'Sandwich Place',\n",
       " 'Mexican Restaurant']"
      ]
     },
     "execution_count": 79,
     "metadata": {},
     "output_type": "execute_result"
    }
   ],
   "source": [
    "common2=list(set(Raffles_Place_list).intersection(Canary_Wharf_list))\n",
    "common2"
   ]
  },
  {
   "cell_type": "code",
   "execution_count": 80,
   "metadata": {},
   "outputs": [
    {
     "data": {
      "text/plain": [
       "['Bar',\n",
       " 'Bakery',\n",
       " 'Juice Bar',\n",
       " 'Sandwich Place',\n",
       " 'Sushi Restaurant',\n",
       " 'Japanese Restaurant',\n",
       " 'Park',\n",
       " 'French Restaurant',\n",
       " 'Pharmacy',\n",
       " 'Pizza Place',\n",
       " 'Deli / Bodega',\n",
       " 'Coffee Shop',\n",
       " 'Salad Place',\n",
       " 'Mexican Restaurant',\n",
       " 'Plaza',\n",
       " 'Hotel',\n",
       " 'Café',\n",
       " 'Bookstore',\n",
       " 'Steakhouse',\n",
       " 'Cycle Studio',\n",
       " 'Burger Joint',\n",
       " 'Grocery Store',\n",
       " 'Fast Food Restaurant',\n",
       " 'Indian Restaurant']"
      ]
     },
     "execution_count": 80,
     "metadata": {},
     "output_type": "execute_result"
    }
   ],
   "source": [
    "common3=list(set(Midtown_list).intersection(Canary_Wharf_list))\n",
    "common3"
   ]
  },
  {
   "cell_type": "markdown",
   "metadata": {},
   "source": [
    "Most common venues in 3 major Central business districts (CBDs) in the World are:"
   ]
  },
  {
   "cell_type": "code",
   "execution_count": 98,
   "metadata": {},
   "outputs": [
    {
     "data": {
      "text/plain": [
       "['Plaza',\n",
       " 'Bar',\n",
       " 'Hotel',\n",
       " 'Café',\n",
       " 'French Restaurant',\n",
       " 'Coffee Shop',\n",
       " 'Salad Place',\n",
       " 'Sandwich Place',\n",
       " 'Mexican Restaurant',\n",
       " 'Japanese Restaurant']"
      ]
     },
     "execution_count": 98,
     "metadata": {},
     "output_type": "execute_result"
    }
   ],
   "source": [
    "common_venues=list(set(common1).intersection(common2))\n",
    "common_venues"
   ]
  }
 ],
 "metadata": {
  "kernelspec": {
   "display_name": "Python",
   "language": "python",
   "name": "conda-env-python-py"
  },
  "language_info": {
   "codemirror_mode": {
    "name": "ipython",
    "version": 3
   },
   "file_extension": ".py",
   "mimetype": "text/x-python",
   "name": "python",
   "nbconvert_exporter": "python",
   "pygments_lexer": "ipython3",
   "version": "3.6.11"
  }
 },
 "nbformat": 4,
 "nbformat_minor": 4
}
